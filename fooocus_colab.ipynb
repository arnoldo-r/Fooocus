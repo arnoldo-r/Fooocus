{
  "cells": [
    {
      "cell_type": "code",
      "execution_count": null,
      "metadata": {
        "id": "VjYy0F2gZIPR"
      },
      "outputs": [],
      "source": [
        "# Remove Unused Folders\n",
        "!rm -rf /content/sample_data\n",
        "\n",
        "%cd /content\n",
        "!git clone https://github.com/arnoldo-r/Fooocus.git\n",
        "\n",
        "# LoRAs\n",
        "%cd /content/Fooocus/models/loras\n",
        "\n",
        "# Download LoRAs from GDrive\n",
        "!gdown --id gdrive_file_id -O lora_name.safetensors\n",
        "\n",
        "%cd /content/Fooocus\n",
        "!python entry_with_update.py --share --always-high-vram --preset \"preset_name\" --all-in-fp16"
      ]
    }
  ],
  "metadata": {
    "accelerator": "GPU",
    "colab": {
      "gpuType": "T4",
      "provenance": []
    },
    "kernelspec": {
      "display_name": "Python 3",
      "name": "python3"
    },
    "language_info": {
      "name": "python"
    }
  },
  "nbformat": 4,
  "nbformat_minor": 0
}
